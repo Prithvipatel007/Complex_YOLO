{
 "cells": [
  {
   "cell_type": "markdown",
   "metadata": {
    "colab_type": "text",
    "id": "view-in-github"
   },
   "source": [
    "<a href=\"https://colab.research.google.com/github/BerensRWU/Complex_YOLO/blob/main/main.ipynb\" target=\"_parent\"><img src=\"https://colab.research.google.com/assets/colab-badge.svg\" alt=\"Open In Colab\"/></a>"
   ]
  },
  {
   "cell_type": "code",
   "execution_count": 1,
   "metadata": {
    "id": "BdUDLytqDcYQ"
   },
   "outputs": [],
   "source": [
    "import numpy as np\n",
    "import os\n",
    "import argparse\n",
    "import cv2\n",
    "import torch\n",
    "import torch.utils.data as torch_data\n",
    "\n",
    "from models import Darknet\n",
    "from detector import detector, setup_detector\n",
    "from visualize import visualize_func\n",
    "from evaluation import get_batch_statistics_rotated_bbox, evaluate\n",
    "\n",
    "from utils.astyx_yolo_dataset import AstyxYOLODataset\n",
    "import utils.config as cnf"
   ]
  },
  {
   "cell_type": "code",
   "execution_count": 2,
   "metadata": {
    "colab": {
     "base_uri": "https://localhost:8080/"
    },
    "id": "o9TUzV62H7TZ",
    "outputId": "9309fb69-c271-4681-c450-c305cfffe378"
   },
   "outputs": [],
   "source": [
    "#from google.colab import drive\n",
    "#drive.mount('/content/drive')"
   ]
  },
  {
   "cell_type": "code",
   "execution_count": 3,
   "metadata": {
    "id": "Eyip9UtazABg"
   },
   "outputs": [],
   "source": [
    "# this class replace the argparse argument class\n",
    "class arguments:\n",
    "  def __init__(self, model_def, weights_path, conf_thres, nms_thres, iou_thres,\n",
    "              split, radar, estimate_bb, evaluate, visualize):\n",
    "    self.model_def = model_def\n",
    "    self.weights_path = weights_path\n",
    "    self.conf_thres = conf_thres\n",
    "    self.nms_thres = nms_thres\n",
    "    self.iou_thres = iou_thres\n",
    "    self.split = split\n",
    "    self.radar = radar\n",
    "    self.estimate_bb = estimate_bb\n",
    "    self.evaluate = evaluate\n",
    "    self.visualize = visualize"
   ]
  },
  {
   "cell_type": "code",
   "execution_count": 4,
   "metadata": {
    "id": "6SWWSaOYMH8e"
   },
   "outputs": [],
   "source": [
    "opt = arguments(model_def = \"network/yolov3-custom.cfg\",\n",
    "                weights_path = \"checkpoints\",\n",
    "                conf_thres = 0.5,\n",
    "                nms_thres = 0.2,\n",
    "                iou_thres = 0.5,\n",
    "                split = \"valid\",\n",
    "                radar = True,\n",
    "                estimate_bb = True,\n",
    "                evaluate = True,\n",
    "                visualize = True)\n",
    "\n",
    "cnf.root_dir = \"../../../../Documents/LidarandRadarSystems/Task2/Complex_YOLO/dataset/\""
   ]
  },
  {
   "cell_type": "code",
   "execution_count": 5,
   "metadata": {
    "id": "LByAGzhiCaFj"
   },
   "outputs": [],
   "source": [
    "if not os.path.exists(\"output\"):\n",
    "  os.makedirs(\"output\")"
   ]
  },
  {
   "cell_type": "code",
   "execution_count": 6,
   "metadata": {
    "id": "x0Y7zUHeLjMD"
   },
   "outputs": [],
   "source": [
    "if opt.estimate_bb:\n",
    "  # if we want to detect objects we have to setup the model for our purpose\n",
    "  model = setup_detector(opt)\n",
    "  if opt.evaluate:\n",
    "    ngt = 0 # number of all targets\n",
    "    true_positives = []\n",
    "    pred_scores = []"
   ]
  },
  {
   "cell_type": "code",
   "execution_count": 7,
   "metadata": {
    "colab": {
     "base_uri": "https://localhost:8080/"
    },
    "id": "ygNbeQu7D2QW",
    "outputId": "75d4cfcf-5550-4894-d47f-7f924d34da01"
   },
   "outputs": [
    {
     "name": "stdout",
     "output_type": "stream",
     "text": [
      "Load EVAL samples from ../../../../Documents/LidarandRadarSystems/Task2/Complex_YOLO/dataset/dataset_astyx_hires2019\n",
      "Done: total EVAL samples 107\n"
     ]
    }
   ],
   "source": [
    "# Load the Astyx dataset\n",
    "dataset = AstyxYOLODataset(cnf.root_dir, split=opt.split, mode=\"EVAL\", radar=opt.radar)\n",
    "data_loader = torch_data.DataLoader(dataset, batch_size=1, shuffle=False, collate_fn=dataset.collate_fn)\n"
   ]
  },
  {
   "cell_type": "code",
   "execution_count": 8,
   "metadata": {
    "id": "3Y71tjiAQCzU"
   },
   "outputs": [],
   "source": [
    "# loop over all frames from the split file\n",
    "sample_metrics = [ ]\n",
    "for index, (sample_id, bev_maps, targets) in enumerate(data_loader):\n",
    "  # Stores detections for each image index\n",
    "  img_detections = []\n",
    "  \n",
    "  # Targets position and dimension values are between 0 - 1, so that they\n",
    "  # have to be transformed to pixel coordinates\n",
    "  targets[:, 2:] *= cnf.BEV_WIDTH\n",
    "  \n",
    "  if opt.estimate_bb:\n",
    "    # detects objects\n",
    "    predictions = detector(model, bev_maps, opt)\n",
    "    img_detections.extend(predictions)\n",
    "    # Calculate if the prediction is a true detection\n",
    "    if opt.evaluate:\n",
    "      ngt += len(targets)\n",
    "      #true_positive, pred_score = get_batch_statistics_rotated_bbox(predictions, targets, opt.iou_thres)\n",
    "      sample_metrics += get_batch_statistics_rotated_bbox(predictions, targets, opt.iou_thres)\n",
    "                  \n",
    "  # Visualization of the ground truth and if estimated the predicted boxes\n",
    "  if opt.visualize:\n",
    "    visualize_func(bev_maps[0], targets, img_detections, sample_id, opt.estimate_bb)"
   ]
  },
  {
   "cell_type": "code",
   "execution_count": 9,
   "metadata": {
    "id": "0yLeW3HeLO-4"
   },
   "outputs": [
    {
     "name": "stdout",
     "output_type": "stream",
     "text": [
      "Approximation of the average precision (AP).\n",
      "All point approximation: 0.677.\n",
      "11 point approximation: 0.681.\n"
     ]
    }
   ],
   "source": [
    "if opt.estimate_bb and opt.evaluate:\n",
    "  # Concatenate sample statistics\n",
    "  true_positives, pred_scores = [np.concatenate(x, 0) for x in list(zip(*sample_metrics))]\n",
    "  ap_all, ap_11 = evaluate(true_positives, pred_scores, ngt)\n",
    "  \n",
    "  print(\"Approximation of the average precision (AP).\\nAll point approximation: %.3f.\\n11 point approximation: %.3f.\" %(ap_all, ap_11))"
   ]
  },
  {
   "cell_type": "code",
   "execution_count": null,
   "metadata": {
    "id": "HC6kmSb8QnN5"
   },
   "outputs": [],
   "source": []
  },
  {
   "cell_type": "code",
   "execution_count": null,
   "metadata": {
    "id": "hCmfcrSZQslr"
   },
   "outputs": [],
   "source": []
  },
  {
   "cell_type": "code",
   "execution_count": null,
   "metadata": {
    "id": "qnC_HlGxcluP"
   },
   "outputs": [],
   "source": []
  },
  {
   "cell_type": "code",
   "execution_count": null,
   "metadata": {
    "id": "qF6bsC4NfUoB"
   },
   "outputs": [],
   "source": []
  }
 ],
 "metadata": {
  "colab": {
   "include_colab_link": true,
   "name": "main.ipynb",
   "provenance": []
  },
  "kernelspec": {
   "display_name": "Python 3",
   "language": "python",
   "name": "python3"
  },
  "language_info": {
   "codemirror_mode": {
    "name": "ipython",
    "version": 3
   },
   "file_extension": ".py",
   "mimetype": "text/x-python",
   "name": "python",
   "nbconvert_exporter": "python",
   "pygments_lexer": "ipython3",
   "version": "3.8.5"
  }
 },
 "nbformat": 4,
 "nbformat_minor": 1
}
